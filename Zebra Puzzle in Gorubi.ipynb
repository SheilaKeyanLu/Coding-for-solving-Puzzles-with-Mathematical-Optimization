{
 "cells": [
  {
   "cell_type": "code",
   "execution_count": null,
   "id": "5cb7d06f-d80e-47ee-b460-b67918c6b7a0",
   "metadata": {},
   "outputs": [],
   "source": []
  }
 ],
 "metadata": {
  "kernelspec": {
   "display_name": "",
   "name": ""
  },
  "language_info": {
   "name": ""
  }
 },
 "nbformat": 4,
 "nbformat_minor": 5
}
