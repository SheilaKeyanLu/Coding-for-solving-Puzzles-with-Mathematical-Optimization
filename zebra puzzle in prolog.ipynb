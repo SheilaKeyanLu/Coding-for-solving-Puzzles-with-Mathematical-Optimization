{
 "cells": [
  {
   "cell_type": "code",
   "execution_count": 2,
   "id": "fa531f67-0c12-4ed5-a10f-c8721fdd970d",
   "metadata": {},
   "outputs": [],
   "source": [
    "from pyswip import Prolog"
   ]
  },
  {
   "cell_type": "code",
   "execution_count": 6,
   "id": "ee32fc69-7564-4858-9701-87bda41d35c7",
   "metadata": {},
   "outputs": [],
   "source": [
    "import time"
   ]
  },
  {
   "cell_type": "code",
   "execution_count": 13,
   "id": "1e2691bc-fd3e-446f-b61a-615efcab7d96",
   "metadata": {},
   "outputs": [
    {
     "name": "stdout",
     "output_type": "stream",
     "text": [
      "[{'X': 'japanese'}]\n",
      "[{'X': 'norwegian'}]\n",
      "Total Execution Time: 5.113 ms\n"
     ]
    }
   ],
   "source": [
    "# Load prolog code\n",
    "prolog = Prolog()\n",
    "prolog.consult(\"C:\\\\Users\\\\陆柯言\\\\Desktop\\\\The Original Code.pl\") \n",
    "# Query the owner of the zebra\n",
    "result = list(prolog.query(\"ownsZebra(X)\"))\n",
    "inference = list\n",
    "print(result)\n",
    "\n",
    "# Query the person who drinks water\n",
    "result = list(prolog.query(\"drinksWater(X)\"))\n",
    "print(result)\n",
    "\n",
    "# Record execution time\n",
    "start_time = time.time()\n",
    "result = list(prolog.query(\"run_benchmark\"))\n",
    "end_time = time.time()\n",
    "\n",
    "# Display total execution time\n",
    "print(f\"Total Execution Time: {round((end_time - start_time) * 1000, 3)} ms\")"
   ]
  },
  {
   "cell_type": "code",
   "execution_count": 11,
   "id": "b6309846-b43d-4e7b-b1b6-8e2766c777c1",
   "metadata": {},
   "outputs": [
    {
     "name": "stdout",
     "output_type": "stream",
     "text": [
      "[{'X': 'japanese'}]\n",
      "[{'X': 'norwegian'}]\n",
      "Total Execution Time: 1.481 ms\n"
     ]
    }
   ],
   "source": [
    "# Load prolog code\n",
    "prolog = Prolog()\n",
    "prolog.consult(\"C:\\\\Users\\\\陆柯言\\\\Desktop\\\\Heuristics1 and 2.pl\") \n",
    "# Query the owner of the zebra\n",
    "result = list(prolog.query(\"ownsZebra(X)\"))\n",
    "print(result)\n",
    "\n",
    "# Query the person who drinks water\n",
    "result = list(prolog.query(\"drinksWater(X)\"))\n",
    "print(result)\n",
    "\n",
    "# Record execution time\n",
    "start_time = time.time()\n",
    "result = list(prolog.query(\"run_benchmark\"))\n",
    "end_time = time.time()\n",
    "\n",
    "# Display total execution time\n",
    "print(f\"Total Execution Time: {round((end_time - start_time) * 1000, 3)} ms\")"
   ]
  },
  {
   "cell_type": "code",
   "execution_count": 12,
   "id": "5a415a9e-f6be-4566-bfb3-a143cd8b939d",
   "metadata": {},
   "outputs": [
    {
     "name": "stdout",
     "output_type": "stream",
     "text": [
      "[{'X': 'japanese'}]\n",
      "[{'X': 'norwegian'}]\n",
      "Total Execution Time: 0.0 ms\n"
     ]
    }
   ],
   "source": [
    "# Load prolog code\n",
    "prolog = Prolog()\n",
    "prolog.consult(\"C:\\\\Users\\\\陆柯言\\\\Desktop\\\\Heuristics 1, 2, and 3.pl\") \n",
    "# Query the owner of the zebra\n",
    "result = list(prolog.query(\"ownsZebra(X)\"))\n",
    "print(result)\n",
    "\n",
    "# Query the person who drinks water\n",
    "result = list(prolog.query(\"drinksWater(X)\"))\n",
    "print(result)\n",
    "\n",
    "# Record execution time\n",
    "start_time = time.time()\n",
    "result = list(prolog.query(\"run_benchmark\"))\n",
    "end_time = time.time()\n",
    "\n",
    "# Display total execution time\n",
    "print(f\"Total Execution Time: {round((end_time - start_time) * 1000, 3)} ms\")"
   ]
  }
 ],
 "metadata": {
  "kernelspec": {
   "display_name": "Python 3 (ipykernel)",
   "language": "python",
   "name": "python3"
  },
  "language_info": {
   "codemirror_mode": {
    "name": "ipython",
    "version": 3
   },
   "file_extension": ".py",
   "mimetype": "text/x-python",
   "name": "python",
   "nbconvert_exporter": "python",
   "pygments_lexer": "ipython3",
   "version": "3.11.1"
  }
 },
 "nbformat": 4,
 "nbformat_minor": 5
}
